{
 "cells": [
  {
   "cell_type": "code",
   "execution_count": 1,
   "id": "3e0fccd9-e09f-4643-a24c-7e8494b2b0c8",
   "metadata": {},
   "outputs": [],
   "source": [
    "import cv2\n",
    "import mediapipe as mp\n",
    "import numpy as np\n",
    "import math\n",
    "from ctypes import cast, POINTER\n",
    "from comtypes import CLSCTX_ALL\n",
    "from pycaw.pycaw import AudioUtilities, IAudioEndpointVolume"
   ]
  },
  {
   "cell_type": "code",
   "execution_count": 2,
   "id": "ba04d94b-fec5-45d3-8c66-4dccd086dec1",
   "metadata": {},
   "outputs": [],
   "source": [
    "# MediaPipe setup\n",
    "mpHands = mp.solutions.hands\n",
    "hands = mpHands.Hands()\n",
    "mpDraw = mp.solutions.drawing_utils"
   ]
  },
  {
   "cell_type": "code",
   "execution_count": 3,
   "id": "886b8de9-f530-44bf-ae6b-0adb4f28af60",
   "metadata": {},
   "outputs": [],
   "source": [
    "# Access system volume\n",
    "devices = AudioUtilities.GetSpeakers()\n",
    "interface = devices.Activate(IAudioEndpointVolume._iid_, CLSCTX_ALL, None)\n",
    "volume = cast(interface, POINTER(IAudioEndpointVolume))\n",
    "volRange = volume.GetVolumeRange()\n",
    "minVol, maxVol = volRange[0], volRange[1]"
   ]
  },
  {
   "cell_type": "code",
   "execution_count": 5,
   "id": "815ac588-8525-4931-bb7a-3c12020f4ef3",
   "metadata": {},
   "outputs": [],
   "source": [
    "# Start webcam\n",
    "cap = cv2.VideoCapture(0)\n",
    "\n",
    "while True:\n",
    "    success, img = cap.read()\n",
    "    imgRGB = cv2.cvtColor(img, cv2.COLOR_BGR2RGB)\n",
    "    results = hands.process(imgRGB)\n",
    "\n",
    "    if results.multi_hand_landmarks:\n",
    "        for handLms in results.multi_hand_landmarks:\n",
    "            # Get coordinates of thumb and index finger\n",
    "            lmList = []\n",
    "            for id, lm in enumerate(handLms.landmark):\n",
    "                h, w, c = img.shape\n",
    "                cx, cy = int(lm.x * w), int(lm.y * h)\n",
    "                lmList.append((id, cx, cy))\n",
    "\n",
    "            x1, y1 = lmList[4][1], lmList[4][2]   # Thumb tip\n",
    "            x2, y2 = lmList[8][1], lmList[8][2]   # Index tip\n",
    "            cx, cy = (x1 + x2)//2, (y1 + y2)//2\n",
    "            # Draw circle & line\n",
    "            cv2.circle(img, (x1, y1), 10, (255, 0, 255), cv2.FILLED)\n",
    "            cv2.circle(img, (x2, y2), 10, (255, 0, 255), cv2.FILLED)\n",
    "            cv2.line(img, (x1, y1), (x2, y2), (0, 255, 0), 2)\n",
    "            cv2.circle(img, (cx, cy), 10, (0, 0, 255), cv2.FILLED)\n",
    "\n",
    "            # Calculate distance\n",
    "            length = math.hypot(x2 - x1, y2 - y1)\n",
    "            vol = np.interp(length, [30, 200], [minVol, maxVol])\n",
    "            volume.SetMasterVolumeLevel(vol, None)\n",
    "\n",
    "            # Visual feedback\n",
    "            if length < 30:\n",
    "                cv2.circle(img, (cx, cy), 15, (0, 255, 0), cv2.FILLED)\n",
    "\n",
    "        mpDraw.draw_landmarks(img, handLms, mpHands.HAND_CONNECTIONS)\n",
    "\n",
    "    cv2.imshow(\"Gesture Volume Control\", img)\n",
    "    if cv2.waitKey(1) & 0xFF == ord('q'):\n",
    "        break"
   ]
  }
 ],
 "metadata": {
  "kernelspec": {
   "display_name": "Python 3",
   "language": "python",
   "name": "python3"
  },
  "language_info": {
   "codemirror_mode": {
    "name": "ipython",
    "version": 3
   },
   "file_extension": ".py",
   "mimetype": "text/x-python",
   "name": "python",
   "nbconvert_exporter": "python",
   "pygments_lexer": "ipython3",
   "version": "3.12.0"
  }
 },
 "nbformat": 4,
 "nbformat_minor": 5
}
